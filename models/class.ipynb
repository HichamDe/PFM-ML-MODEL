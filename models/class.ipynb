{
 "cells": [
  {
   "cell_type": "code",
   "execution_count": 29,
   "id": "1a552fc4",
   "metadata": {},
   "outputs": [],
   "source": [
    "import pandas as pd\n",
    "from sklearn.model_selection import train_test_split\n",
    "from sklearn.metrics import mean_absolute_error, r2_score\n",
    "from sklearn.preprocessing import StandardScaler,OneHotEncoder\n",
    "from sklearn.linear_model import LinearRegression\n",
    "import numpy as np\n",
    "# Export model\n",
    "import os\n",
    "import joblib\n",
    "import re"
   ]
  },
  {
   "cell_type": "code",
   "execution_count": 30,
   "id": "3a41da7e",
   "metadata": {},
   "outputs": [],
   "source": [
    "#* Data set\n",
    "df = pd.read_csv(\"../data/cleaned_set.csv\")\n",
    "\n",
    "\n",
    "#* PARMAS\n",
    "NEW_VERSION=True\n",
    "\n",
    "ENCODER_SCALER_URL=\"./lib\"\n",
    "SAVE_ENCODER_SCALER=False\n"
   ]
  },
  {
   "cell_type": "markdown",
   "id": "ca7874c4",
   "metadata": {},
   "source": [
    "# Encodage des variables categorielles"
   ]
  },
  {
   "cell_type": "code",
   "execution_count": 31,
   "id": "efe528f8",
   "metadata": {},
   "outputs": [],
   "source": [
    "categorical_cols = [\n",
    "    'transmission',\n",
    "    'fuel_type',\n",
    "    'brand',\n",
    "    'model',\n",
    "    'origin',\n",
    "    'condition',\n",
    "]\n",
    "\n",
    "# Initialize encoder with sparse=False to get a NumPy array\n",
    "encoder = OneHotEncoder(sparse_output=False,handle_unknown='ignore')\n",
    "\n",
    "# Fit and transform\n",
    "df_catcol_encoded = encoder.fit_transform(df[categorical_cols])\n",
    "\n",
    "# Create DataFrame with proper column names\n",
    "df_encoded = pd.DataFrame(df_catcol_encoded, \n",
    "                          columns=encoder.get_feature_names_out(categorical_cols),\n",
    "                          index=df.index)  # keep index aligned with original df\n",
    "\n",
    "# Optionally, concatenate back with the original dataframe (without the original categorical columns)\n",
    "df = pd.concat([df.drop(columns=categorical_cols), df_encoded], axis=1)"
   ]
  },
  {
   "cell_type": "markdown",
   "id": "6dcce851",
   "metadata": {},
   "source": [
    "# Normalization"
   ]
  },
  {
   "cell_type": "code",
   "execution_count": 32,
   "id": "1c88218d",
   "metadata": {},
   "outputs": [],
   "source": [
    "\n",
    "scaler = StandardScaler()\n",
    "df[['mileage', 'tax_horsepower', 'car_age', 'number_of_doors']] = scaler.fit_transform(\n",
    "    df[['mileage', 'tax_horsepower', 'car_age', 'number_of_doors']]\n",
    ")\n"
   ]
  },
  {
   "cell_type": "code",
   "execution_count": 33,
   "id": "db752f80",
   "metadata": {},
   "outputs": [],
   "source": [
    "if SAVE_ENCODER_SCALER:\n",
    "    joblib.dump(encoder, 'lib/encoder.pkl')\n",
    "    joblib.dump(scaler, 'lib/scaler.pkl')"
   ]
  },
  {
   "cell_type": "markdown",
   "id": "fec6943b",
   "metadata": {},
   "source": [
    "# Separation des donnees (train | test) + Entrainement du modele"
   ]
  },
  {
   "cell_type": "code",
   "execution_count": 34,
   "id": "e564ae80",
   "metadata": {},
   "outputs": [
    {
     "name": "stdout",
     "output_type": "stream",
     "text": [
      "Predicted car price: 194758.1350634396\n"
     ]
    }
   ],
   "source": [
    "X = df.drop(\"price\", axis=1)\n",
    "y = df[\"price\"]\n",
    "\n",
    "X_train, X_test, y_train, y_test = train_test_split(X, y, test_size=0.2, random_state=42)\n",
    "\n",
    "model = LinearRegression()\n",
    "model.fit(X_train, y_train)\n",
    "\n",
    "\n",
    "#* Custom test input\n",
    "my_custom_df = pd.DataFrame([{\n",
    "    \"model_year\": 2020,\n",
    "    \"mileage\": 45000.5,\n",
    "    \"number_of_doors\": 4,\n",
    "    \"first_owner\": True,\n",
    "    \"tax_horsepower\": 7.5,\n",
    "    \"abs\": True,\n",
    "    \"airbags\": 6,\n",
    "    \"multimedia\": True,\n",
    "    \"backup_camera\": True,\n",
    "    \"air_conditioning\": True,\n",
    "    \"esp\": True,\n",
    "    \"aluminum_wheels\": True,\n",
    "    \"speed_limiter\": False,\n",
    "    \"onboard_computer\": True,\n",
    "    \"parking_sensors\": True,\n",
    "    \"cruise_control\": False,\n",
    "    \"leather_seats\": False,\n",
    "    \"navigation_gps\": True,\n",
    "    \"sunroof\": False,\n",
    "    \"remote_central_locking\": True,\n",
    "    \"power_windows\": True,\n",
    "    \"car_age\": 30,\n",
    "    \"transmission\": \"somehting ejse\",\n",
    "    \"fuel_type\": \"diesel\",\n",
    "    \"brand\": \"pegeut\",\n",
    "    \"model\": \"Corolla\",\n",
    "    \"origin\": \"ww maroc\",\n",
    "    \"condition\": \"used\",\n",
    "}])\n",
    "\n",
    "# Fit and transform\n",
    "cstm_catcol_encoded = encoder.transform(my_custom_df[categorical_cols])\n",
    "\n",
    "# Create DataFrame with proper column names\n",
    "cstm_encoded = pd.DataFrame(cstm_catcol_encoded, \n",
    "                          columns=encoder.get_feature_names_out(categorical_cols),\n",
    "                          index=my_custom_df.index)  # keep index aligned with original df\n",
    "\n",
    "# Optionally, concatenate back with the original dataframe (without the original categorical columns)\n",
    "my_custom_df = pd.concat([my_custom_df.drop(columns=categorical_cols), cstm_encoded], axis=1)\n",
    "\n",
    "my_custom_df[['mileage', 'tax_horsepower', 'car_age', 'number_of_doors']] = scaler.fit_transform(\n",
    "    my_custom_df[['mileage', 'tax_horsepower', 'car_age', 'number_of_doors']]\n",
    ")\n",
    "\n",
    "# # Predict\n",
    "car_price = model.predict(my_custom_df)\n",
    "print(\"Predicted car price:\", car_price[0])\n"
   ]
  },
  {
   "cell_type": "code",
   "execution_count": 35,
   "id": "272650c5",
   "metadata": {},
   "outputs": [
    {
     "name": "stdout",
     "output_type": "stream",
     "text": [
      "Model saved as v1.pkl\n"
     ]
    }
   ],
   "source": [
    "# Directory to save models\n",
    "if NEW_VERSION:\n",
    "    \n",
    "    MODEL_DIR = \".\"\n",
    "    os.makedirs(MODEL_DIR, exist_ok=True)\n",
    "\n",
    "    def get_next_model_version():\n",
    "        existing_models = [f for f in os.listdir(MODEL_DIR) if re.match(r\"v\\d+\\.pkl\", f)]\n",
    "        versions = [int(re.findall(r'\\d+', fname)[0]) for fname in existing_models]\n",
    "        next_version = max(versions) + 1 if versions else 1\n",
    "        return f\"v{next_version}.pkl\"\n",
    "\n",
    "\n",
    "    # Save with version\n",
    "    model_filename = get_next_model_version()\n",
    "    joblib.dump(model, os.path.join(MODEL_DIR, model_filename))\n",
    "    print(f\"Model saved as {model_filename}\")\n"
   ]
  },
  {
   "cell_type": "markdown",
   "id": "a198a0d8",
   "metadata": {},
   "source": [
    "# Evaluation du modele "
   ]
  },
  {
   "cell_type": "code",
   "execution_count": 36,
   "id": "463f3aee",
   "metadata": {},
   "outputs": [
    {
     "name": "stdout",
     "output_type": "stream",
     "text": [
      "MAE: 28994.073414207658\n",
      "R2 Score: 0.7998427865196754\n"
     ]
    }
   ],
   "source": [
    "y_pred = model.predict(X_test)\n",
    "print(\"MAE:\", mean_absolute_error(y_test, y_pred))\n",
    "print(\"R2 Score:\", r2_score(y_test, y_pred))"
   ]
  }
 ],
 "metadata": {
  "kernelspec": {
   "display_name": "Python 3",
   "language": "python",
   "name": "python3"
  },
  "language_info": {
   "codemirror_mode": {
    "name": "ipython",
    "version": 3
   },
   "file_extension": ".py",
   "mimetype": "text/x-python",
   "name": "python",
   "nbconvert_exporter": "python",
   "pygments_lexer": "ipython3",
   "version": "3.13.1"
  }
 },
 "nbformat": 4,
 "nbformat_minor": 5
}
